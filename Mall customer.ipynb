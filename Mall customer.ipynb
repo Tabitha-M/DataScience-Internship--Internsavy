{
 "cells": [
  {
   "cell_type": "code",
   "execution_count": 1,
   "id": "4869dd95",
   "metadata": {},
   "outputs": [],
   "source": [
    "# import libraries\n",
    "import pandas as pd\n",
    "import numpy as np\n",
    "import matplotlib.pyplot as plt\n",
    "import seaborn as sns\n",
    "import warnings\n",
    "warnings.filterwarnings(\"ignore\")"
   ]
  },
  {
   "cell_type": "code",
   "execution_count": 2,
   "id": "f0c2e707",
   "metadata": {},
   "outputs": [
    {
     "data": {
      "text/html": [
       "<div>\n",
       "<style scoped>\n",
       "    .dataframe tbody tr th:only-of-type {\n",
       "        vertical-align: middle;\n",
       "    }\n",
       "\n",
       "    .dataframe tbody tr th {\n",
       "        vertical-align: top;\n",
       "    }\n",
       "\n",
       "    .dataframe thead th {\n",
       "        text-align: right;\n",
       "    }\n",
       "</style>\n",
       "<table border=\"1\" class=\"dataframe\">\n",
       "  <thead>\n",
       "    <tr style=\"text-align: right;\">\n",
       "      <th></th>\n",
       "      <th>CustomerID</th>\n",
       "      <th>Genre</th>\n",
       "      <th>Age</th>\n",
       "      <th>Annual Income (k$)</th>\n",
       "      <th>Spending Score (1-100)</th>\n",
       "    </tr>\n",
       "  </thead>\n",
       "  <tbody>\n",
       "    <tr>\n",
       "      <th>0</th>\n",
       "      <td>1</td>\n",
       "      <td>Male</td>\n",
       "      <td>19</td>\n",
       "      <td>15</td>\n",
       "      <td>39</td>\n",
       "    </tr>\n",
       "    <tr>\n",
       "      <th>1</th>\n",
       "      <td>2</td>\n",
       "      <td>Male</td>\n",
       "      <td>21</td>\n",
       "      <td>15</td>\n",
       "      <td>81</td>\n",
       "    </tr>\n",
       "    <tr>\n",
       "      <th>2</th>\n",
       "      <td>3</td>\n",
       "      <td>Female</td>\n",
       "      <td>20</td>\n",
       "      <td>16</td>\n",
       "      <td>6</td>\n",
       "    </tr>\n",
       "    <tr>\n",
       "      <th>3</th>\n",
       "      <td>4</td>\n",
       "      <td>Female</td>\n",
       "      <td>23</td>\n",
       "      <td>16</td>\n",
       "      <td>77</td>\n",
       "    </tr>\n",
       "    <tr>\n",
       "      <th>4</th>\n",
       "      <td>5</td>\n",
       "      <td>Female</td>\n",
       "      <td>31</td>\n",
       "      <td>17</td>\n",
       "      <td>40</td>\n",
       "    </tr>\n",
       "    <tr>\n",
       "      <th>5</th>\n",
       "      <td>6</td>\n",
       "      <td>Female</td>\n",
       "      <td>22</td>\n",
       "      <td>17</td>\n",
       "      <td>76</td>\n",
       "    </tr>\n",
       "    <tr>\n",
       "      <th>6</th>\n",
       "      <td>7</td>\n",
       "      <td>Female</td>\n",
       "      <td>35</td>\n",
       "      <td>18</td>\n",
       "      <td>6</td>\n",
       "    </tr>\n",
       "    <tr>\n",
       "      <th>7</th>\n",
       "      <td>8</td>\n",
       "      <td>Female</td>\n",
       "      <td>23</td>\n",
       "      <td>18</td>\n",
       "      <td>94</td>\n",
       "    </tr>\n",
       "    <tr>\n",
       "      <th>8</th>\n",
       "      <td>9</td>\n",
       "      <td>Male</td>\n",
       "      <td>64</td>\n",
       "      <td>19</td>\n",
       "      <td>3</td>\n",
       "    </tr>\n",
       "    <tr>\n",
       "      <th>9</th>\n",
       "      <td>10</td>\n",
       "      <td>Female</td>\n",
       "      <td>30</td>\n",
       "      <td>19</td>\n",
       "      <td>72</td>\n",
       "    </tr>\n",
       "  </tbody>\n",
       "</table>\n",
       "</div>"
      ],
      "text/plain": [
       "   CustomerID   Genre  Age  Annual Income (k$)  Spending Score (1-100)\n",
       "0           1    Male   19                  15                      39\n",
       "1           2    Male   21                  15                      81\n",
       "2           3  Female   20                  16                       6\n",
       "3           4  Female   23                  16                      77\n",
       "4           5  Female   31                  17                      40\n",
       "5           6  Female   22                  17                      76\n",
       "6           7  Female   35                  18                       6\n",
       "7           8  Female   23                  18                      94\n",
       "8           9    Male   64                  19                       3\n",
       "9          10  Female   30                  19                      72"
      ]
     },
     "execution_count": 2,
     "metadata": {},
     "output_type": "execute_result"
    }
   ],
   "source": [
    "# loading the data\n",
    "df = pd.read_csv('Mall_Customers.csv')\n",
    "df.head(10)"
   ]
  },
  {
   "cell_type": "code",
   "execution_count": 3,
   "id": "dde29629",
   "metadata": {},
   "outputs": [],
   "source": [
    "df= df.rename(columns={'Genre':'Gender'})"
   ]
  },
  {
   "cell_type": "code",
   "execution_count": 4,
   "id": "aee53f07",
   "metadata": {
    "scrolled": true
   },
   "outputs": [
    {
     "name": "stdout",
     "output_type": "stream",
     "text": [
      "<class 'pandas.core.frame.DataFrame'>\n",
      "RangeIndex: 200 entries, 0 to 199\n",
      "Data columns (total 5 columns):\n",
      " #   Column                  Non-Null Count  Dtype \n",
      "---  ------                  --------------  ----- \n",
      " 0   CustomerID              200 non-null    int64 \n",
      " 1   Gender                  200 non-null    object\n",
      " 2   Age                     200 non-null    int64 \n",
      " 3   Annual Income (k$)      200 non-null    int64 \n",
      " 4   Spending Score (1-100)  200 non-null    int64 \n",
      "dtypes: int64(4), object(1)\n",
      "memory usage: 7.9+ KB\n"
     ]
    }
   ],
   "source": [
    "df.info()"
   ]
  },
  {
   "cell_type": "code",
   "execution_count": 5,
   "id": "e1c62a1b",
   "metadata": {},
   "outputs": [
    {
     "data": {
      "text/html": [
       "<div>\n",
       "<style scoped>\n",
       "    .dataframe tbody tr th:only-of-type {\n",
       "        vertical-align: middle;\n",
       "    }\n",
       "\n",
       "    .dataframe tbody tr th {\n",
       "        vertical-align: top;\n",
       "    }\n",
       "\n",
       "    .dataframe thead th {\n",
       "        text-align: right;\n",
       "    }\n",
       "</style>\n",
       "<table border=\"1\" class=\"dataframe\">\n",
       "  <thead>\n",
       "    <tr style=\"text-align: right;\">\n",
       "      <th></th>\n",
       "      <th>CustomerID</th>\n",
       "      <th>Age</th>\n",
       "      <th>Annual Income (k$)</th>\n",
       "      <th>Spending Score (1-100)</th>\n",
       "    </tr>\n",
       "  </thead>\n",
       "  <tbody>\n",
       "    <tr>\n",
       "      <th>count</th>\n",
       "      <td>200.000000</td>\n",
       "      <td>200.000000</td>\n",
       "      <td>200.000000</td>\n",
       "      <td>200.000000</td>\n",
       "    </tr>\n",
       "    <tr>\n",
       "      <th>mean</th>\n",
       "      <td>100.500000</td>\n",
       "      <td>38.850000</td>\n",
       "      <td>60.560000</td>\n",
       "      <td>50.200000</td>\n",
       "    </tr>\n",
       "    <tr>\n",
       "      <th>std</th>\n",
       "      <td>57.879185</td>\n",
       "      <td>13.969007</td>\n",
       "      <td>26.264721</td>\n",
       "      <td>25.823522</td>\n",
       "    </tr>\n",
       "    <tr>\n",
       "      <th>min</th>\n",
       "      <td>1.000000</td>\n",
       "      <td>18.000000</td>\n",
       "      <td>15.000000</td>\n",
       "      <td>1.000000</td>\n",
       "    </tr>\n",
       "    <tr>\n",
       "      <th>25%</th>\n",
       "      <td>50.750000</td>\n",
       "      <td>28.750000</td>\n",
       "      <td>41.500000</td>\n",
       "      <td>34.750000</td>\n",
       "    </tr>\n",
       "    <tr>\n",
       "      <th>50%</th>\n",
       "      <td>100.500000</td>\n",
       "      <td>36.000000</td>\n",
       "      <td>61.500000</td>\n",
       "      <td>50.000000</td>\n",
       "    </tr>\n",
       "    <tr>\n",
       "      <th>75%</th>\n",
       "      <td>150.250000</td>\n",
       "      <td>49.000000</td>\n",
       "      <td>78.000000</td>\n",
       "      <td>73.000000</td>\n",
       "    </tr>\n",
       "    <tr>\n",
       "      <th>max</th>\n",
       "      <td>200.000000</td>\n",
       "      <td>70.000000</td>\n",
       "      <td>137.000000</td>\n",
       "      <td>99.000000</td>\n",
       "    </tr>\n",
       "  </tbody>\n",
       "</table>\n",
       "</div>"
      ],
      "text/plain": [
       "       CustomerID         Age  Annual Income (k$)  Spending Score (1-100)\n",
       "count  200.000000  200.000000          200.000000              200.000000\n",
       "mean   100.500000   38.850000           60.560000               50.200000\n",
       "std     57.879185   13.969007           26.264721               25.823522\n",
       "min      1.000000   18.000000           15.000000                1.000000\n",
       "25%     50.750000   28.750000           41.500000               34.750000\n",
       "50%    100.500000   36.000000           61.500000               50.000000\n",
       "75%    150.250000   49.000000           78.000000               73.000000\n",
       "max    200.000000   70.000000          137.000000               99.000000"
      ]
     },
     "execution_count": 5,
     "metadata": {},
     "output_type": "execute_result"
    }
   ],
   "source": [
    "df.describe()"
   ]
  },
  {
   "cell_type": "code",
   "execution_count": 6,
   "id": "ee053f9f",
   "metadata": {},
   "outputs": [
    {
     "data": {
      "text/plain": [
       "(200, 5)"
      ]
     },
     "execution_count": 6,
     "metadata": {},
     "output_type": "execute_result"
    }
   ],
   "source": [
    " df.shape"
   ]
  },
  {
   "cell_type": "code",
   "execution_count": 7,
   "id": "34c2784f",
   "metadata": {},
   "outputs": [
    {
     "data": {
      "text/plain": [
       "Index(['CustomerID', 'Gender', 'Age', 'Annual Income (k$)',\n",
       "       'Spending Score (1-100)'],\n",
       "      dtype='object')"
      ]
     },
     "execution_count": 7,
     "metadata": {},
     "output_type": "execute_result"
    }
   ],
   "source": [
    "df.columns"
   ]
  },
  {
   "cell_type": "code",
   "execution_count": 8,
   "id": "312ca21e",
   "metadata": {},
   "outputs": [
    {
     "data": {
      "text/plain": [
       "CustomerID                200\n",
       "Gender                    200\n",
       "Age                       200\n",
       "Annual Income (k$)        200\n",
       "Spending Score (1-100)    200\n",
       "dtype: int64"
      ]
     },
     "execution_count": 8,
     "metadata": {},
     "output_type": "execute_result"
    }
   ],
   "source": [
    "df.count()"
   ]
  },
  {
   "cell_type": "code",
   "execution_count": 9,
   "id": "1d6f9ff0",
   "metadata": {},
   "outputs": [
    {
     "data": {
      "text/plain": [
       "0"
      ]
     },
     "execution_count": 9,
     "metadata": {},
     "output_type": "execute_result"
    }
   ],
   "source": [
    "df.duplicated().sum()"
   ]
  },
  {
   "cell_type": "code",
   "execution_count": 10,
   "id": "ffcd3c96",
   "metadata": {},
   "outputs": [
    {
     "data": {
      "text/plain": [
       "CustomerID                0\n",
       "Gender                    0\n",
       "Age                       0\n",
       "Annual Income (k$)        0\n",
       "Spending Score (1-100)    0\n",
       "dtype: int64"
      ]
     },
     "execution_count": 10,
     "metadata": {},
     "output_type": "execute_result"
    }
   ],
   "source": [
    "df.isnull().sum()"
   ]
  },
  {
   "cell_type": "code",
   "execution_count": 11,
   "id": "ba8224af",
   "metadata": {
    "scrolled": true
   },
   "outputs": [
    {
     "data": {
      "text/plain": [
       "<matplotlib.collections.PathCollection at 0x18adec195d0>"
      ]
     },
     "execution_count": 11,
     "metadata": {},
     "output_type": "execute_result"
    },
    {
     "data": {
      "image/png": "[encoded data removed]",
      "text/plain": [
       "<Figure size 640x480 with 1 Axes>"
      ]
     },
     "metadata": {},
     "output_type": "display_data"
    }
   ],
   "source": [
    "plt.scatter(df['Annual Income (k$)'], df['Spending Score (1-100)'])"
   ]
  },
  {
   "cell_type": "code",
   "execution_count": 12,
   "id": "b0de40da",
   "metadata": {},
   "outputs": [],
   "source": [
    "from sklearn.cluster import KMeans"
   ]
  },
  {
   "cell_type": "code",
   "execution_count": 13,
   "id": "b3319daf",
   "metadata": {},
   "outputs": [],
   "source": [
    "#Splitting data into x and y\n",
    "X=df.iloc[:,[2,3]]\n",
    "y=df.iloc[:,4]"
   ]
  },
  {
   "cell_type": "code",
   "execution_count": 14,
   "id": "d62eb263",
   "metadata": {},
   "outputs": [
    {
     "data": {
      "text/html": [
       "<div>\n",
       "<style scoped>\n",
       "    .dataframe tbody tr th:only-of-type {\n",
       "        vertical-align: middle;\n",
       "    }\n",
       "\n",
       "    .dataframe tbody tr th {\n",
       "        vertical-align: top;\n",
       "    }\n",
       "\n",
       "    .dataframe thead th {\n",
       "        text-align: right;\n",
       "    }\n",
       "</style>\n",
       "<table border=\"1\" class=\"dataframe\">\n",
       "  <thead>\n",
       "    <tr style=\"text-align: right;\">\n",
       "      <th></th>\n",
       "      <th>Age</th>\n",
       "      <th>Annual Income (k$)</th>\n",
       "    </tr>\n",
       "  </thead>\n",
       "  <tbody>\n",
       "    <tr>\n",
       "      <th>0</th>\n",
       "      <td>19</td>\n",
       "      <td>15</td>\n",
       "    </tr>\n",
       "    <tr>\n",
       "      <th>1</th>\n",
       "      <td>21</td>\n",
       "      <td>15</td>\n",
       "    </tr>\n",
       "    <tr>\n",
       "      <th>2</th>\n",
       "      <td>20</td>\n",
       "      <td>16</td>\n",
       "    </tr>\n",
       "    <tr>\n",
       "      <th>3</th>\n",
       "      <td>23</td>\n",
       "      <td>16</td>\n",
       "    </tr>\n",
       "    <tr>\n",
       "      <th>4</th>\n",
       "      <td>31</td>\n",
       "      <td>17</td>\n",
       "    </tr>\n",
       "    <tr>\n",
       "      <th>...</th>\n",
       "      <td>...</td>\n",
       "      <td>...</td>\n",
       "    </tr>\n",
       "    <tr>\n",
       "      <th>195</th>\n",
       "      <td>35</td>\n",
       "      <td>120</td>\n",
       "    </tr>\n",
       "    <tr>\n",
       "      <th>196</th>\n",
       "      <td>45</td>\n",
       "      <td>126</td>\n",
       "    </tr>\n",
       "    <tr>\n",
       "      <th>197</th>\n",
       "      <td>32</td>\n",
       "      <td>126</td>\n",
       "    </tr>\n",
       "    <tr>\n",
       "      <th>198</th>\n",
       "      <td>32</td>\n",
       "      <td>137</td>\n",
       "    </tr>\n",
       "    <tr>\n",
       "      <th>199</th>\n",
       "      <td>30</td>\n",
       "      <td>137</td>\n",
       "    </tr>\n",
       "  </tbody>\n",
       "</table>\n",
       "<p>200 rows × 2 columns</p>\n",
       "</div>"
      ],
      "text/plain": [
       "     Age  Annual Income (k$)\n",
       "0     19                  15\n",
       "1     21                  15\n",
       "2     20                  16\n",
       "3     23                  16\n",
       "4     31                  17\n",
       "..   ...                 ...\n",
       "195   35                 120\n",
       "196   45                 126\n",
       "197   32                 126\n",
       "198   32                 137\n",
       "199   30                 137\n",
       "\n",
       "[200 rows x 2 columns]"
      ]
     },
     "execution_count": 14,
     "metadata": {},
     "output_type": "execute_result"
    }
   ],
   "source": [
    "X"
   ]
  },
  {
   "cell_type": "code",
   "execution_count": 15,
   "id": "b11db389",
   "metadata": {},
   "outputs": [
    {
     "data": {
      "text/plain": [
       "0      39\n",
       "1      81\n",
       "2       6\n",
       "3      77\n",
       "4      40\n",
       "       ..\n",
       "195    79\n",
       "196    28\n",
       "197    74\n",
       "198    18\n",
       "199    83\n",
       "Name: Spending Score (1-100), Length: 200, dtype: int64"
      ]
     },
     "execution_count": 15,
     "metadata": {},
     "output_type": "execute_result"
    }
   ],
   "source": [
    "y"
   ]
  },
  {
   "cell_type": "code",
   "execution_count": 16,
   "id": "e2ef07e7",
   "metadata": {},
   "outputs": [
    {
     "data": {
      "image/png": "[encoded data removed]",
      "text/plain": [
       "<Figure size 640x480 with 1 Axes>"
      ]
     },
     "metadata": {},
     "output_type": "display_data"
    }
   ],
   "source": [
    "k_values = range(1, 10)\n",
    "inertias = []\n",
    "\n",
    "# Perform KMeans clustering for each value of k\n",
    "for k in k_values:\n",
    "    kmeans = KMeans(n_clusters=k, random_state=50)\n",
    "    kmeans.fit(X)\n",
    "    inertias.append(kmeans.inertia_)\n",
    "\n",
    "# Plot the elbow curve\n",
    "plt.plot(k_values, inertias, marker='o')\n",
    "plt.xlabel('Number of Clusters (k)')\n",
    "plt.ylabel('Inertia')\n",
    "plt.title('Elbow Curve')\n",
    "plt.show()"
   ]
  },
  {
   "cell_type": "code",
   "execution_count": null,
   "id": "88cbd4c5",
   "metadata": {},
   "outputs": [],
   "source": []
  },
  {
   "cell_type": "code",
   "execution_count": null,
   "id": "76e6b84a",
   "metadata": {},
   "outputs": [],
   "source": []
  },
  {
   "cell_type": "code",
   "execution_count": null,
   "id": "f6664505",
   "metadata": {},
   "outputs": [],
   "source": []
  },
  {
   "cell_type": "code",
   "execution_count": null,
   "id": "ed40b342",
   "metadata": {},
   "outputs": [],
   "source": []
  },
  {
   "cell_type": "code",
   "execution_count": 18,
   "id": "c7656cd4",
   "metadata": {},
   "outputs": [],
   "source": [
    "#Splitting data into x and y\n",
    "X=df.iloc[:,[3,4]]\n",
    "y=df.iloc[:,4]"
   ]
  },
  {
   "cell_type": "code",
   "execution_count": 19,
   "id": "1e788775",
   "metadata": {},
   "outputs": [
    {
     "data": {
      "text/html": [
       "<div>\n",
       "<style scoped>\n",
       "    .dataframe tbody tr th:only-of-type {\n",
       "        vertical-align: middle;\n",
       "    }\n",
       "\n",
       "    .dataframe tbody tr th {\n",
       "        vertical-align: top;\n",
       "    }\n",
       "\n",
       "    .dataframe thead th {\n",
       "        text-align: right;\n",
       "    }\n",
       "</style>\n",
       "<table border=\"1\" class=\"dataframe\">\n",
       "  <thead>\n",
       "    <tr style=\"text-align: right;\">\n",
       "      <th></th>\n",
       "      <th>Annual Income (k$)</th>\n",
       "      <th>Spending Score (1-100)</th>\n",
       "    </tr>\n",
       "  </thead>\n",
       "  <tbody>\n",
       "    <tr>\n",
       "      <th>0</th>\n",
       "      <td>15</td>\n",
       "      <td>39</td>\n",
       "    </tr>\n",
       "    <tr>\n",
       "      <th>1</th>\n",
       "      <td>15</td>\n",
       "      <td>81</td>\n",
       "    </tr>\n",
       "    <tr>\n",
       "      <th>2</th>\n",
       "      <td>16</td>\n",
       "      <td>6</td>\n",
       "    </tr>\n",
       "    <tr>\n",
       "      <th>3</th>\n",
       "      <td>16</td>\n",
       "      <td>77</td>\n",
       "    </tr>\n",
       "    <tr>\n",
       "      <th>4</th>\n",
       "      <td>17</td>\n",
       "      <td>40</td>\n",
       "    </tr>\n",
       "  </tbody>\n",
       "</table>\n",
       "</div>"
      ],
      "text/plain": [
       "   Annual Income (k$)  Spending Score (1-100)\n",
       "0                  15                      39\n",
       "1                  15                      81\n",
       "2                  16                       6\n",
       "3                  16                      77\n",
       "4                  17                      40"
      ]
     },
     "execution_count": 19,
     "metadata": {},
     "output_type": "execute_result"
    }
   ],
   "source": [
    "X.head(5)"
   ]
  },
  {
   "cell_type": "code",
   "execution_count": 20,
   "id": "f9d07af9",
   "metadata": {},
   "outputs": [
    {
     "data": {
      "text/plain": [
       "0    39\n",
       "1    81\n",
       "2     6\n",
       "3    77\n",
       "4    40\n",
       "Name: Spending Score (1-100), dtype: int64"
      ]
     },
     "execution_count": 20,
     "metadata": {},
     "output_type": "execute_result"
    }
   ],
   "source": [
    "y.head(5)"
   ]
  },
  {
   "cell_type": "code",
   "execution_count": 21,
   "id": "73f14ed3",
   "metadata": {},
   "outputs": [],
   "source": [
    "km=KMeans(n_clusters=5)\n",
    "y_means=km.fit_predict(X)"
   ]
  },
  {
   "cell_type": "code",
   "execution_count": 22,
   "id": "69a83c94",
   "metadata": {},
   "outputs": [],
   "source": [
    "from sklearn.preprocessing import MinMaxScaler\n",
    "from sklearn.model_selection import train_test_split"
   ]
  },
  {
   "cell_type": "code",
   "execution_count": 23,
   "id": "bbfebd57",
   "metadata": {},
   "outputs": [],
   "source": [
    "X_train,X_test,y_train,y_test=train_test_split(X,y, test_size=0.2,random_state=20)"
   ]
  },
  {
   "cell_type": "code",
   "execution_count": 24,
   "id": "8ec0a029",
   "metadata": {},
   "outputs": [
    {
     "data": {
      "text/html": [
       "<div>\n",
       "<style scoped>\n",
       "    .dataframe tbody tr th:only-of-type {\n",
       "        vertical-align: middle;\n",
       "    }\n",
       "\n",
       "    .dataframe tbody tr th {\n",
       "        vertical-align: top;\n",
       "    }\n",
       "\n",
       "    .dataframe thead th {\n",
       "        text-align: right;\n",
       "    }\n",
       "</style>\n",
       "<table border=\"1\" class=\"dataframe\">\n",
       "  <thead>\n",
       "    <tr style=\"text-align: right;\">\n",
       "      <th></th>\n",
       "      <th>Annual Income (k$)</th>\n",
       "      <th>Spending Score (1-100)</th>\n",
       "    </tr>\n",
       "  </thead>\n",
       "  <tbody>\n",
       "    <tr>\n",
       "      <th>152</th>\n",
       "      <td>78</td>\n",
       "      <td>20</td>\n",
       "    </tr>\n",
       "    <tr>\n",
       "      <th>67</th>\n",
       "      <td>48</td>\n",
       "      <td>48</td>\n",
       "    </tr>\n",
       "    <tr>\n",
       "      <th>133</th>\n",
       "      <td>72</td>\n",
       "      <td>71</td>\n",
       "    </tr>\n",
       "    <tr>\n",
       "      <th>59</th>\n",
       "      <td>46</td>\n",
       "      <td>46</td>\n",
       "    </tr>\n",
       "    <tr>\n",
       "      <th>63</th>\n",
       "      <td>47</td>\n",
       "      <td>59</td>\n",
       "    </tr>\n",
       "  </tbody>\n",
       "</table>\n",
       "</div>"
      ],
      "text/plain": [
       "     Annual Income (k$)  Spending Score (1-100)\n",
       "152                  78                      20\n",
       "67                   48                      48\n",
       "133                  72                      71\n",
       "59                   46                      46\n",
       "63                   47                      59"
      ]
     },
     "execution_count": 24,
     "metadata": {},
     "output_type": "execute_result"
    }
   ],
   "source": [
    "X_train.head()"
   ]
  },
  {
   "cell_type": "code",
   "execution_count": 25,
   "id": "9fb241a3",
   "metadata": {},
   "outputs": [
    {
     "data": {
      "text/html": [
       "<style>#sk-container-id-1 {color: black;background-color: white;}#sk-container-id-1 pre{padding: 0;}#sk-container-id-1 div.sk-toggleable {background-color: white;}#sk-container-id-1 label.sk-toggleable__label {cursor: pointer;display: block;width: 100%;margin-bottom: 0;padding: 0.3em;box-sizing: border-box;text-align: center;}#sk-container-id-1 label.sk-toggleable__label-arrow:before {content: \"▸\";float: left;margin-right: 0.25em;color: #696969;}#sk-container-id-1 label.sk-toggleable__label-arrow:hover:before {color: black;}#sk-container-id-1 div.sk-estimator:hover label.sk-toggleable__label-arrow:before {color: black;}#sk-container-id-1 div.sk-toggleable__content {max-height: 0;max-width: 0;overflow: hidden;text-align: left;background-color: #f0f8ff;}#sk-container-id-1 div.sk-toggleable__content pre {margin: 0.2em;color: black;border-radius: 0.25em;background-color: #f0f8ff;}#sk-container-id-1 input.sk-toggleable__control:checked~div.sk-toggleable__content {max-height: 200px;max-width: 100%;overflow: auto;}#sk-container-id-1 input.sk-toggleable__control:checked~label.sk-toggleable__label-arrow:before {content: \"▾\";}#sk-container-id-1 div.sk-estimator input.sk-toggleable__control:checked~label.sk-toggleable__label {background-color: #d4ebff;}#sk-container-id-1 div.sk-label input.sk-toggleable__control:checked~label.sk-toggleable__label {background-color: #d4ebff;}#sk-container-id-1 input.sk-hidden--visually {border: 0;clip: rect(1px 1px 1px 1px);clip: rect(1px, 1px, 1px, 1px);height: 1px;margin: -1px;overflow: hidden;padding: 0;position: absolute;width: 1px;}#sk-container-id-1 div.sk-estimator {font-family: monospace;background-color: #f0f8ff;border: 1px dotted black;border-radius: 0.25em;box-sizing: border-box;margin-bottom: 0.5em;}#sk-container-id-1 div.sk-estimator:hover {background-color: #d4ebff;}#sk-container-id-1 div.sk-parallel-item::after {content: \"\";width: 100%;border-bottom: 1px solid gray;flex-grow: 1;}#sk-container-id-1 div.sk-label:hover label.sk-toggleable__label {background-color: #d4ebff;}#sk-container-id-1 div.sk-serial::before {content: \"\";position: absolute;border-left: 1px solid gray;box-sizing: border-box;top: 0;bottom: 0;left: 50%;z-index: 0;}#sk-container-id-1 div.sk-serial {display: flex;flex-direction: column;align-items: center;background-color: white;padding-right: 0.2em;padding-left: 0.2em;position: relative;}#sk-container-id-1 div.sk-item {position: relative;z-index: 1;}#sk-container-id-1 div.sk-parallel {display: flex;align-items: stretch;justify-content: center;background-color: white;position: relative;}#sk-container-id-1 div.sk-item::before, #sk-container-id-1 div.sk-parallel-item::before {content: \"\";position: absolute;border-left: 1px solid gray;box-sizing: border-box;top: 0;bottom: 0;left: 50%;z-index: -1;}#sk-container-id-1 div.sk-parallel-item {display: flex;flex-direction: column;z-index: 1;position: relative;background-color: white;}#sk-container-id-1 div.sk-parallel-item:first-child::after {align-self: flex-end;width: 50%;}#sk-container-id-1 div.sk-parallel-item:last-child::after {align-self: flex-start;width: 50%;}#sk-container-id-1 div.sk-parallel-item:only-child::after {width: 0;}#sk-container-id-1 div.sk-dashed-wrapped {border: 1px dashed gray;margin: 0 0.4em 0.5em 0.4em;box-sizing: border-box;padding-bottom: 0.4em;background-color: white;}#sk-container-id-1 div.sk-label label {font-family: monospace;font-weight: bold;display: inline-block;line-height: 1.2em;}#sk-container-id-1 div.sk-label-container {text-align: center;}#sk-container-id-1 div.sk-container {/* jupyter's `normalize.less` sets `[hidden] { display: none; }` but bootstrap.min.css set `[hidden] { display: none !important; }` so we also need the `!important` here to be able to override the default hidden behavior on the sphinx rendered scikit-learn.org. See: https://github.com/scikit-learn/scikit-learn/issues/21755 */display: inline-block !important;position: relative;}#sk-container-id-1 div.sk-text-repr-fallback {display: none;}</style><div id=\"sk-container-id-1\" class=\"sk-top-container\"><div class=\"sk-text-repr-fallback\"><pre>MinMaxScaler()</pre><b>In a Jupyter environment, please rerun this cell to show the HTML representation or trust the notebook. <br />On GitHub, the HTML representation is unable to render, please try loading this page with nbviewer.org.</b></div><div class=\"sk-container\" hidden><div class=\"sk-item\"><div class=\"sk-estimator sk-toggleable\"><input class=\"sk-toggleable__control sk-hidden--visually\" id=\"sk-estimator-id-1\" type=\"checkbox\" checked><label for=\"sk-estimator-id-1\" class=\"sk-toggleable__label sk-toggleable__label-arrow\">MinMaxScaler</label><div class=\"sk-toggleable__content\"><pre>MinMaxScaler()</pre></div></div></div></div></div>"
      ],
      "text/plain": [
       "MinMaxScaler()"
      ]
     },
     "execution_count": 25,
     "metadata": {},
     "output_type": "execute_result"
    }
   ],
   "source": [
    "scaler=MinMaxScaler().fit(X_train)\n",
    "scaler"
   ]
  },
  {
   "cell_type": "code",
   "execution_count": 26,
   "id": "a9dd7887",
   "metadata": {},
   "outputs": [
    {
     "data": {
      "text/plain": [
       "array([15.,  1.])"
      ]
     },
     "execution_count": 26,
     "metadata": {},
     "output_type": "execute_result"
    }
   ],
   "source": [
    "scaler.data_min_"
   ]
  },
  {
   "cell_type": "code",
   "execution_count": 27,
   "id": "cadc255b",
   "metadata": {},
   "outputs": [
    {
     "data": {
      "text/plain": [
       "array([137.,  99.])"
      ]
     },
     "execution_count": 27,
     "metadata": {},
     "output_type": "execute_result"
    }
   ],
   "source": [
    "scaler.data_max_"
   ]
  },
  {
   "cell_type": "code",
   "execution_count": 28,
   "id": "146fed92",
   "metadata": {},
   "outputs": [
    {
     "data": {
      "text/plain": [
       "(0, 1)"
      ]
     },
     "execution_count": 28,
     "metadata": {},
     "output_type": "execute_result"
    }
   ],
   "source": [
    "scaler.feature_range"
   ]
  },
  {
   "cell_type": "code",
   "execution_count": 29,
   "id": "cd5c83f0",
   "metadata": {},
   "outputs": [
    {
     "data": {
      "text/plain": [
       "array([[0.51639344, 0.19387755],\n",
       "       [0.2704918 , 0.47959184],\n",
       "       [0.46721311, 0.71428571],\n",
       "       [0.25409836, 0.45918367],\n",
       "       [0.26229508, 0.59183673],\n",
       "       [0.68852459, 0.3877551 ],\n",
       "       [0.59836066, 0.12244898],\n",
       "       [0.44262295, 0.58163265],\n",
       "       [0.39344262, 0.54081633],\n",
       "       [0.45901639, 0.08163265],\n",
       "       [0.04098361, 0.14285714],\n",
       "       [0.45901639, 0.75510204],\n",
       "       [0.22131148, 0.60204082],\n",
       "       [0.51639344, 0.76530612],\n",
       "       [0.35245902, 0.60204082],\n",
       "       [0.        , 0.81632653],\n",
       "       [0.2295082 , 0.40816327],\n",
       "       [0.31967213, 0.51020408],\n",
       "       [0.51639344, 0.        ],\n",
       "       [0.2704918 , 0.51020408],\n",
       "       [0.47540984, 0.04081633],\n",
       "       [0.26229508, 0.52040816],\n",
       "       [0.07377049, 0.34693878],\n",
       "       [0.07377049, 0.73469388],\n",
       "       [0.19672131, 0.65306122],\n",
       "       [0.45901639, 0.10204082],\n",
       "       [0.36885246, 0.48979592],\n",
       "       [0.72131148, 0.69387755],\n",
       "       [0.1147541 , 0.87755102],\n",
       "       [0.36065574, 0.55102041],\n",
       "       [0.14754098, 0.81632653],\n",
       "       [0.39344262, 0.45918367],\n",
       "       [0.36065574, 0.40816327],\n",
       "       [0.3852459 , 0.56122449],\n",
       "       [0.57377049, 0.75510204],\n",
       "       [0.2704918 , 0.59183673],\n",
       "       [0.1557377 , 0.73469388],\n",
       "       [0.37704918, 0.41836735],\n",
       "       [0.        , 0.3877551 ],\n",
       "       [0.90983607, 0.74489796],\n",
       "       [0.03278689, 1.        ],\n",
       "       [0.47540984, 0.8877551 ],\n",
       "       [0.20491803, 0.41836735],\n",
       "       [0.12295082, 0.03061224],\n",
       "       [0.2704918 , 0.59183673],\n",
       "       [1.        , 0.17346939],\n",
       "       [0.2704918 , 0.5       ],\n",
       "       [0.3852459 , 0.55102041],\n",
       "       [0.18852459, 0.92857143],\n",
       "       [0.63934426, 0.90816327],\n",
       "       [0.40983607, 0.59183673],\n",
       "       [0.23770492, 0.45918367],\n",
       "       [0.00819672, 0.05102041],\n",
       "       [0.2704918 , 0.46938776],\n",
       "       [0.31967213, 0.46938776],\n",
       "       [0.22131148, 0.52040816],\n",
       "       [0.39344262, 0.42857143],\n",
       "       [0.57377049, 0.25510204],\n",
       "       [0.25409836, 0.51020408],\n",
       "       [0.3852459 , 0.40816327],\n",
       "       [0.23770492, 0.5       ],\n",
       "       [0.12295082, 0.73469388],\n",
       "       [0.04098361, 0.12244898],\n",
       "       [0.42622951, 0.56122449],\n",
       "       [0.3442623 , 0.55102041],\n",
       "       [0.18032787, 0.75510204],\n",
       "       [0.39344262, 0.5       ],\n",
       "       [0.3852459 , 0.59183673],\n",
       "       [0.51639344, 0.8877551 ],\n",
       "       [0.28688525, 0.56122449],\n",
       "       [0.31967213, 0.55102041],\n",
       "       [0.2295082 , 0.44897959],\n",
       "       [0.45081967, 0.28571429],\n",
       "       [0.49180328, 0.04081633],\n",
       "       [0.31967213, 0.53061224],\n",
       "       [0.36885246, 0.46938776],\n",
       "       [0.2295082 , 0.54081633],\n",
       "       [0.08196721, 0.73469388],\n",
       "       [0.42622951, 0.57142857],\n",
       "       [0.46721311, 0.33673469],\n",
       "       [0.03278689, 0.7244898 ],\n",
       "       [0.18032787, 0.25510204],\n",
       "       [0.59016393, 0.92857143],\n",
       "       [0.2295082 , 0.60204082],\n",
       "       [0.36885246, 0.52040816],\n",
       "       [0.45081967, 0.7755102 ],\n",
       "       [0.20491803, 0.41836735],\n",
       "       [0.40983607, 0.42857143],\n",
       "       [0.06557377, 0.98979592],\n",
       "       [0.1557377 , 0.16326531],\n",
       "       [0.45901639, 0.95918367],\n",
       "       [0.44262295, 0.91836735],\n",
       "       [0.25409836, 0.56122449],\n",
       "       [0.51639344, 0.15306122],\n",
       "       [0.67213115, 0.31632653],\n",
       "       [0.72131148, 0.85714286],\n",
       "       [0.04918033, 0.66326531],\n",
       "       [0.40983607, 0.47959184],\n",
       "       [0.48360656, 0.09183673],\n",
       "       [0.40983607, 0.5       ],\n",
       "       [0.51639344, 0.73469388],\n",
       "       [0.31967213, 0.40816327],\n",
       "       [0.67213115, 0.86734694],\n",
       "       [0.52459016, 0.34693878],\n",
       "       [0.03278689, 0.02040816],\n",
       "       [0.54098361, 0.93877551],\n",
       "       [0.10655738, 0.6122449 ],\n",
       "       [0.01639344, 0.39795918],\n",
       "       [0.5       , 0.39795918],\n",
       "       [0.80327869, 0.91836735],\n",
       "       [0.27868852, 0.55102041],\n",
       "       [0.52459016, 0.83673469],\n",
       "       [0.59016393, 0.63265306],\n",
       "       [0.36885246, 0.41836735],\n",
       "       [0.19672131, 0.35714286],\n",
       "       [0.14754098, 0.92857143],\n",
       "       [0.36885246, 0.39795918],\n",
       "       [0.50819672, 0.35714286],\n",
       "       [0.10655738, 0.13265306],\n",
       "       [0.31967213, 0.52040816],\n",
       "       [0.59016393, 0.09183673],\n",
       "       [0.51639344, 0.78571429],\n",
       "       [0.72131148, 0.2244898 ],\n",
       "       [0.59016393, 0.75510204],\n",
       "       [0.31967213, 0.41836735],\n",
       "       [0.59016393, 0.12244898],\n",
       "       [0.70491803, 0.23469388],\n",
       "       [0.19672131, 0.6122449 ],\n",
       "       [0.50819672, 0.97959184],\n",
       "       [0.00819672, 0.7755102 ],\n",
       "       [0.06557377, 0.28571429],\n",
       "       [0.86065574, 0.15306122],\n",
       "       [0.68032787, 0.14285714],\n",
       "       [0.03278689, 0.13265306],\n",
       "       [0.14754098, 0.03061224],\n",
       "       [0.39344262, 0.52040816],\n",
       "       [0.31967213, 0.43877551],\n",
       "       [0.25409836, 0.55102041],\n",
       "       [0.45901639, 0.75510204],\n",
       "       [0.10655738, 0.82653061],\n",
       "       [0.49180328, 0.93877551],\n",
       "       [0.72131148, 0.16326531],\n",
       "       [0.02459016, 0.05102041],\n",
       "       [0.02459016, 0.94897959],\n",
       "       [0.3852459 , 0.47959184],\n",
       "       [0.3852459 , 0.41836735],\n",
       "       [0.50819672, 0.1122449 ],\n",
       "       [0.04918033, 0.34693878],\n",
       "       [0.10655738, 0.31632653],\n",
       "       [0.18852459, 0.34693878],\n",
       "       [0.42622951, 0.42857143],\n",
       "       [0.54098361, 0.04081633],\n",
       "       [0.27868852, 0.41836735],\n",
       "       [0.08196721, 0.04081633],\n",
       "       [0.31967213, 0.54081633],\n",
       "       [0.51639344, 0.21428571],\n",
       "       [0.47540984, 0.73469388],\n",
       "       [0.51639344, 0.        ],\n",
       "       [0.04098361, 0.79591837],\n",
       "       [0.37704918, 0.48979592]])"
      ]
     },
     "execution_count": 29,
     "metadata": {},
     "output_type": "execute_result"
    }
   ],
   "source": [
    "# transform\n",
    "scaler.transform(X_train)"
   ]
  },
  {
   "cell_type": "code",
   "execution_count": 30,
   "id": "42d8eb01",
   "metadata": {},
   "outputs": [
    {
     "data": {
      "text/plain": [
       "array([[0.51639344, 0.19387755],\n",
       "       [0.2704918 , 0.47959184],\n",
       "       [0.46721311, 0.71428571],\n",
       "       [0.25409836, 0.45918367],\n",
       "       [0.26229508, 0.59183673],\n",
       "       [0.68852459, 0.3877551 ],\n",
       "       [0.59836066, 0.12244898],\n",
       "       [0.44262295, 0.58163265],\n",
       "       [0.39344262, 0.54081633],\n",
       "       [0.45901639, 0.08163265],\n",
       "       [0.04098361, 0.14285714],\n",
       "       [0.45901639, 0.75510204],\n",
       "       [0.22131148, 0.60204082],\n",
       "       [0.51639344, 0.76530612],\n",
       "       [0.35245902, 0.60204082],\n",
       "       [0.        , 0.81632653],\n",
       "       [0.2295082 , 0.40816327],\n",
       "       [0.31967213, 0.51020408],\n",
       "       [0.51639344, 0.        ],\n",
       "       [0.2704918 , 0.51020408],\n",
       "       [0.47540984, 0.04081633],\n",
       "       [0.26229508, 0.52040816],\n",
       "       [0.07377049, 0.34693878],\n",
       "       [0.07377049, 0.73469388],\n",
       "       [0.19672131, 0.65306122],\n",
       "       [0.45901639, 0.10204082],\n",
       "       [0.36885246, 0.48979592],\n",
       "       [0.72131148, 0.69387755],\n",
       "       [0.1147541 , 0.87755102],\n",
       "       [0.36065574, 0.55102041],\n",
       "       [0.14754098, 0.81632653],\n",
       "       [0.39344262, 0.45918367],\n",
       "       [0.36065574, 0.40816327],\n",
       "       [0.3852459 , 0.56122449],\n",
       "       [0.57377049, 0.75510204],\n",
       "       [0.2704918 , 0.59183673],\n",
       "       [0.1557377 , 0.73469388],\n",
       "       [0.37704918, 0.41836735],\n",
       "       [0.        , 0.3877551 ],\n",
       "       [0.90983607, 0.74489796],\n",
       "       [0.03278689, 1.        ],\n",
       "       [0.47540984, 0.8877551 ],\n",
       "       [0.20491803, 0.41836735],\n",
       "       [0.12295082, 0.03061224],\n",
       "       [0.2704918 , 0.59183673],\n",
       "       [1.        , 0.17346939],\n",
       "       [0.2704918 , 0.5       ],\n",
       "       [0.3852459 , 0.55102041],\n",
       "       [0.18852459, 0.92857143],\n",
       "       [0.63934426, 0.90816327],\n",
       "       [0.40983607, 0.59183673],\n",
       "       [0.23770492, 0.45918367],\n",
       "       [0.00819672, 0.05102041],\n",
       "       [0.2704918 , 0.46938776],\n",
       "       [0.31967213, 0.46938776],\n",
       "       [0.22131148, 0.52040816],\n",
       "       [0.39344262, 0.42857143],\n",
       "       [0.57377049, 0.25510204],\n",
       "       [0.25409836, 0.51020408],\n",
       "       [0.3852459 , 0.40816327],\n",
       "       [0.23770492, 0.5       ],\n",
       "       [0.12295082, 0.73469388],\n",
       "       [0.04098361, 0.12244898],\n",
       "       [0.42622951, 0.56122449],\n",
       "       [0.3442623 , 0.55102041],\n",
       "       [0.18032787, 0.75510204],\n",
       "       [0.39344262, 0.5       ],\n",
       "       [0.3852459 , 0.59183673],\n",
       "       [0.51639344, 0.8877551 ],\n",
       "       [0.28688525, 0.56122449],\n",
       "       [0.31967213, 0.55102041],\n",
       "       [0.2295082 , 0.44897959],\n",
       "       [0.45081967, 0.28571429],\n",
       "       [0.49180328, 0.04081633],\n",
       "       [0.31967213, 0.53061224],\n",
       "       [0.36885246, 0.46938776],\n",
       "       [0.2295082 , 0.54081633],\n",
       "       [0.08196721, 0.73469388],\n",
       "       [0.42622951, 0.57142857],\n",
       "       [0.46721311, 0.33673469],\n",
       "       [0.03278689, 0.7244898 ],\n",
       "       [0.18032787, 0.25510204],\n",
       "       [0.59016393, 0.92857143],\n",
       "       [0.2295082 , 0.60204082],\n",
       "       [0.36885246, 0.52040816],\n",
       "       [0.45081967, 0.7755102 ],\n",
       "       [0.20491803, 0.41836735],\n",
       "       [0.40983607, 0.42857143],\n",
       "       [0.06557377, 0.98979592],\n",
       "       [0.1557377 , 0.16326531],\n",
       "       [0.45901639, 0.95918367],\n",
       "       [0.44262295, 0.91836735],\n",
       "       [0.25409836, 0.56122449],\n",
       "       [0.51639344, 0.15306122],\n",
       "       [0.67213115, 0.31632653],\n",
       "       [0.72131148, 0.85714286],\n",
       "       [0.04918033, 0.66326531],\n",
       "       [0.40983607, 0.47959184],\n",
       "       [0.48360656, 0.09183673],\n",
       "       [0.40983607, 0.5       ],\n",
       "       [0.51639344, 0.73469388],\n",
       "       [0.31967213, 0.40816327],\n",
       "       [0.67213115, 0.86734694],\n",
       "       [0.52459016, 0.34693878],\n",
       "       [0.03278689, 0.02040816],\n",
       "       [0.54098361, 0.93877551],\n",
       "       [0.10655738, 0.6122449 ],\n",
       "       [0.01639344, 0.39795918],\n",
       "       [0.5       , 0.39795918],\n",
       "       [0.80327869, 0.91836735],\n",
       "       [0.27868852, 0.55102041],\n",
       "       [0.52459016, 0.83673469],\n",
       "       [0.59016393, 0.63265306],\n",
       "       [0.36885246, 0.41836735],\n",
       "       [0.19672131, 0.35714286],\n",
       "       [0.14754098, 0.92857143],\n",
       "       [0.36885246, 0.39795918],\n",
       "       [0.50819672, 0.35714286],\n",
       "       [0.10655738, 0.13265306],\n",
       "       [0.31967213, 0.52040816],\n",
       "       [0.59016393, 0.09183673],\n",
       "       [0.51639344, 0.78571429],\n",
       "       [0.72131148, 0.2244898 ],\n",
       "       [0.59016393, 0.75510204],\n",
       "       [0.31967213, 0.41836735],\n",
       "       [0.59016393, 0.12244898],\n",
       "       [0.70491803, 0.23469388],\n",
       "       [0.19672131, 0.6122449 ],\n",
       "       [0.50819672, 0.97959184],\n",
       "       [0.00819672, 0.7755102 ],\n",
       "       [0.06557377, 0.28571429],\n",
       "       [0.86065574, 0.15306122],\n",
       "       [0.68032787, 0.14285714],\n",
       "       [0.03278689, 0.13265306],\n",
       "       [0.14754098, 0.03061224],\n",
       "       [0.39344262, 0.52040816],\n",
       "       [0.31967213, 0.43877551],\n",
       "       [0.25409836, 0.55102041],\n",
       "       [0.45901639, 0.75510204],\n",
       "       [0.10655738, 0.82653061],\n",
       "       [0.49180328, 0.93877551],\n",
       "       [0.72131148, 0.16326531],\n",
       "       [0.02459016, 0.05102041],\n",
       "       [0.02459016, 0.94897959],\n",
       "       [0.3852459 , 0.47959184],\n",
       "       [0.3852459 , 0.41836735],\n",
       "       [0.50819672, 0.1122449 ],\n",
       "       [0.04918033, 0.34693878],\n",
       "       [0.10655738, 0.31632653],\n",
       "       [0.18852459, 0.34693878],\n",
       "       [0.42622951, 0.42857143],\n",
       "       [0.54098361, 0.04081633],\n",
       "       [0.27868852, 0.41836735],\n",
       "       [0.08196721, 0.04081633],\n",
       "       [0.31967213, 0.54081633],\n",
       "       [0.51639344, 0.21428571],\n",
       "       [0.47540984, 0.73469388],\n",
       "       [0.51639344, 0.        ],\n",
       "       [0.04098361, 0.79591837],\n",
       "       [0.37704918, 0.48979592]])"
      ]
     },
     "execution_count": 30,
     "metadata": {},
     "output_type": "execute_result"
    }
   ],
   "source": [
    "X_train_scaled = scaler.transform(X_train)\n",
    "X_train_scaled"
   ]
  },
  {
   "cell_type": "code",
   "execution_count": 31,
   "id": "95dddc50",
   "metadata": {},
   "outputs": [
    {
     "data": {
      "text/html": [
       "<style>#sk-container-id-2 {color: black;background-color: white;}#sk-container-id-2 pre{padding: 0;}#sk-container-id-2 div.sk-toggleable {background-color: white;}#sk-container-id-2 label.sk-toggleable__label {cursor: pointer;display: block;width: 100%;margin-bottom: 0;padding: 0.3em;box-sizing: border-box;text-align: center;}#sk-container-id-2 label.sk-toggleable__label-arrow:before {content: \"▸\";float: left;margin-right: 0.25em;color: #696969;}#sk-container-id-2 label.sk-toggleable__label-arrow:hover:before {color: black;}#sk-container-id-2 div.sk-estimator:hover label.sk-toggleable__label-arrow:before {color: black;}#sk-container-id-2 div.sk-toggleable__content {max-height: 0;max-width: 0;overflow: hidden;text-align: left;background-color: #f0f8ff;}#sk-container-id-2 div.sk-toggleable__content pre {margin: 0.2em;color: black;border-radius: 0.25em;background-color: #f0f8ff;}#sk-container-id-2 input.sk-toggleable__control:checked~div.sk-toggleable__content {max-height: 200px;max-width: 100%;overflow: auto;}#sk-container-id-2 input.sk-toggleable__control:checked~label.sk-toggleable__label-arrow:before {content: \"▾\";}#sk-container-id-2 div.sk-estimator input.sk-toggleable__control:checked~label.sk-toggleable__label {background-color: #d4ebff;}#sk-container-id-2 div.sk-label input.sk-toggleable__control:checked~label.sk-toggleable__label {background-color: #d4ebff;}#sk-container-id-2 input.sk-hidden--visually {border: 0;clip: rect(1px 1px 1px 1px);clip: rect(1px, 1px, 1px, 1px);height: 1px;margin: -1px;overflow: hidden;padding: 0;position: absolute;width: 1px;}#sk-container-id-2 div.sk-estimator {font-family: monospace;background-color: #f0f8ff;border: 1px dotted black;border-radius: 0.25em;box-sizing: border-box;margin-bottom: 0.5em;}#sk-container-id-2 div.sk-estimator:hover {background-color: #d4ebff;}#sk-container-id-2 div.sk-parallel-item::after {content: \"\";width: 100%;border-bottom: 1px solid gray;flex-grow: 1;}#sk-container-id-2 div.sk-label:hover label.sk-toggleable__label {background-color: #d4ebff;}#sk-container-id-2 div.sk-serial::before {content: \"\";position: absolute;border-left: 1px solid gray;box-sizing: border-box;top: 0;bottom: 0;left: 50%;z-index: 0;}#sk-container-id-2 div.sk-serial {display: flex;flex-direction: column;align-items: center;background-color: white;padding-right: 0.2em;padding-left: 0.2em;position: relative;}#sk-container-id-2 div.sk-item {position: relative;z-index: 1;}#sk-container-id-2 div.sk-parallel {display: flex;align-items: stretch;justify-content: center;background-color: white;position: relative;}#sk-container-id-2 div.sk-item::before, #sk-container-id-2 div.sk-parallel-item::before {content: \"\";position: absolute;border-left: 1px solid gray;box-sizing: border-box;top: 0;bottom: 0;left: 50%;z-index: -1;}#sk-container-id-2 div.sk-parallel-item {display: flex;flex-direction: column;z-index: 1;position: relative;background-color: white;}#sk-container-id-2 div.sk-parallel-item:first-child::after {align-self: flex-end;width: 50%;}#sk-container-id-2 div.sk-parallel-item:last-child::after {align-self: flex-start;width: 50%;}#sk-container-id-2 div.sk-parallel-item:only-child::after {width: 0;}#sk-container-id-2 div.sk-dashed-wrapped {border: 1px dashed gray;margin: 0 0.4em 0.5em 0.4em;box-sizing: border-box;padding-bottom: 0.4em;background-color: white;}#sk-container-id-2 div.sk-label label {font-family: monospace;font-weight: bold;display: inline-block;line-height: 1.2em;}#sk-container-id-2 div.sk-label-container {text-align: center;}#sk-container-id-2 div.sk-container {/* jupyter's `normalize.less` sets `[hidden] { display: none; }` but bootstrap.min.css set `[hidden] { display: none !important; }` so we also need the `!important` here to be able to override the default hidden behavior on the sphinx rendered scikit-learn.org. See: https://github.com/scikit-learn/scikit-learn/issues/21755 */display: inline-block !important;position: relative;}#sk-container-id-2 div.sk-text-repr-fallback {display: none;}</style><div id=\"sk-container-id-2\" class=\"sk-top-container\"><div class=\"sk-text-repr-fallback\"><pre>MinMaxScaler()</pre><b>In a Jupyter environment, please rerun this cell to show the HTML representation or trust the notebook. <br />On GitHub, the HTML representation is unable to render, please try loading this page with nbviewer.org.</b></div><div class=\"sk-container\" hidden><div class=\"sk-item\"><div class=\"sk-estimator sk-toggleable\"><input class=\"sk-toggleable__control sk-hidden--visually\" id=\"sk-estimator-id-2\" type=\"checkbox\" checked><label for=\"sk-estimator-id-2\" class=\"sk-toggleable__label sk-toggleable__label-arrow\">MinMaxScaler</label><div class=\"sk-toggleable__content\"><pre>MinMaxScaler()</pre></div></div></div></div></div>"
      ],
      "text/plain": [
       "MinMaxScaler()"
      ]
     },
     "execution_count": 31,
     "metadata": {},
     "output_type": "execute_result"
    }
   ],
   "source": [
    "scaler = MinMaxScaler().fit(X_test)\n",
    "scaler"
   ]
  },
  {
   "cell_type": "code",
   "execution_count": 32,
   "id": "8caf08b6",
   "metadata": {},
   "outputs": [
    {
     "data": {
      "text/plain": [
       "array([17.,  7.])"
      ]
     },
     "execution_count": 32,
     "metadata": {},
     "output_type": "execute_result"
    }
   ],
   "source": [
    "scaler.data_min_"
   ]
  },
  {
   "cell_type": "code",
   "execution_count": 33,
   "id": "0a582bcc",
   "metadata": {},
   "outputs": [
    {
     "data": {
      "text/plain": [
       "array([137.,  97.])"
      ]
     },
     "execution_count": 33,
     "metadata": {},
     "output_type": "execute_result"
    }
   ],
   "source": [
    "scaler.data_max_"
   ]
  },
  {
   "cell_type": "code",
   "execution_count": 34,
   "id": "e0e4c9cb",
   "metadata": {},
   "outputs": [
    {
     "data": {
      "text/plain": [
       "array([[0.50833333, 0.11111111],\n",
       "       [0.1       , 0.26666667],\n",
       "       [0.025     , 0.77777778],\n",
       "       [0.63333333, 0.07777778],\n",
       "       [0.38333333, 0.45555556],\n",
       "       [0.58333333, 0.22222222],\n",
       "       [0.59166667, 0.68888889],\n",
       "       [0.90833333, 0.23333333],\n",
       "       [0.19166667, 0.44444444],\n",
       "       [0.85833333, 0.8       ],\n",
       "       [0.46666667, 0.        ],\n",
       "       [0.30833333, 0.45555556],\n",
       "       [0.7       , 0.67777778],\n",
       "       [0.575     , 0.14444444],\n",
       "       [0.30833333, 0.55555556],\n",
       "       [0.59166667, 0.87777778],\n",
       "       [0.50833333, 0.91111111],\n",
       "       [0.575     , 0.97777778],\n",
       "       [0.41666667, 0.36666667],\n",
       "       [0.8       , 0.01111111],\n",
       "       [0.59166667, 0.08888889],\n",
       "       [0.39166667, 0.43333333],\n",
       "       [0.34166667, 0.43333333],\n",
       "       [0.5       , 0.74444444],\n",
       "       [0.68333333, 1.        ],\n",
       "       [0.49166667, 0.88888889],\n",
       "       [1.        , 0.84444444],\n",
       "       [0.45      , 0.31111111],\n",
       "       [0.        , 0.76666667],\n",
       "       [0.35833333, 0.47777778],\n",
       "       [0.13333333, 0.07777778],\n",
       "       [0.475     , 0.72222222],\n",
       "       [0.18333333, 0.23333333],\n",
       "       [0.275     , 0.46666667],\n",
       "       [0.675     , 0.9       ],\n",
       "       [0.30833333, 0.43333333],\n",
       "       [0.50833333, 0.92222222],\n",
       "       [0.19166667, 0.53333333],\n",
       "       [0.33333333, 0.56666667],\n",
       "       [0.39166667, 0.38888889]])"
      ]
     },
     "execution_count": 34,
     "metadata": {},
     "output_type": "execute_result"
    }
   ],
   "source": [
    "scaler.transform(X_test)"
   ]
  },
  {
   "cell_type": "code",
   "execution_count": 35,
   "id": "0af4ccde",
   "metadata": {},
   "outputs": [
    {
     "data": {
      "text/plain": [
       "array([[0.50833333, 0.11111111],\n",
       "       [0.1       , 0.26666667],\n",
       "       [0.025     , 0.77777778],\n",
       "       [0.63333333, 0.07777778],\n",
       "       [0.38333333, 0.45555556],\n",
       "       [0.58333333, 0.22222222],\n",
       "       [0.59166667, 0.68888889],\n",
       "       [0.90833333, 0.23333333],\n",
       "       [0.19166667, 0.44444444],\n",
       "       [0.85833333, 0.8       ],\n",
       "       [0.46666667, 0.        ],\n",
       "       [0.30833333, 0.45555556],\n",
       "       [0.7       , 0.67777778],\n",
       "       [0.575     , 0.14444444],\n",
       "       [0.30833333, 0.55555556],\n",
       "       [0.59166667, 0.87777778],\n",
       "       [0.50833333, 0.91111111],\n",
       "       [0.575     , 0.97777778],\n",
       "       [0.41666667, 0.36666667],\n",
       "       [0.8       , 0.01111111],\n",
       "       [0.59166667, 0.08888889],\n",
       "       [0.39166667, 0.43333333],\n",
       "       [0.34166667, 0.43333333],\n",
       "       [0.5       , 0.74444444],\n",
       "       [0.68333333, 1.        ],\n",
       "       [0.49166667, 0.88888889],\n",
       "       [1.        , 0.84444444],\n",
       "       [0.45      , 0.31111111],\n",
       "       [0.        , 0.76666667],\n",
       "       [0.35833333, 0.47777778],\n",
       "       [0.13333333, 0.07777778],\n",
       "       [0.475     , 0.72222222],\n",
       "       [0.18333333, 0.23333333],\n",
       "       [0.275     , 0.46666667],\n",
       "       [0.675     , 0.9       ],\n",
       "       [0.30833333, 0.43333333],\n",
       "       [0.50833333, 0.92222222],\n",
       "       [0.19166667, 0.53333333],\n",
       "       [0.33333333, 0.56666667],\n",
       "       [0.39166667, 0.38888889]])"
      ]
     },
     "execution_count": 35,
     "metadata": {},
     "output_type": "execute_result"
    }
   ],
   "source": [
    "X_test_scaled=scaler.transform(X_test)\n",
    "X_test_scaled"
   ]
  },
  {
   "cell_type": "code",
   "execution_count": 37,
   "id": "e455fe84",
   "metadata": {},
   "outputs": [
    {
     "data": {
      "text/plain": [
       "array([2, 3, 2, 3, 2, 3, 2, 3, 2, 3, 2, 3, 2, 3, 2, 3, 2, 3, 2, 3, 2, 3,\n",
       "       2, 3, 2, 3, 2, 3, 2, 3, 2, 3, 2, 3, 2, 3, 2, 3, 2, 3, 2, 3, 2, 1,\n",
       "       2, 3, 1, 1, 1, 1, 1, 1, 1, 1, 1, 1, 1, 1, 1, 1, 1, 1, 1, 1, 1, 1,\n",
       "       1, 1, 1, 1, 1, 1, 1, 1, 1, 1, 1, 1, 1, 1, 1, 1, 1, 1, 1, 1, 1, 1,\n",
       "       1, 1, 1, 1, 1, 1, 1, 1, 1, 1, 1, 1, 1, 1, 1, 1, 1, 1, 1, 1, 1, 1,\n",
       "       1, 1, 1, 1, 1, 1, 1, 1, 1, 1, 1, 1, 1, 4, 0, 4, 1, 4, 0, 4, 0, 4,\n",
       "       1, 4, 0, 4, 0, 4, 0, 4, 0, 4, 1, 4, 0, 4, 0, 4, 0, 4, 0, 4, 0, 4,\n",
       "       0, 4, 0, 4, 0, 4, 0, 4, 0, 4, 0, 4, 0, 4, 0, 4, 0, 4, 0, 4, 0, 4,\n",
       "       0, 4, 0, 4, 0, 4, 0, 4, 0, 4, 0, 4, 0, 4, 0, 4, 0, 4, 0, 4, 0, 4,\n",
       "       0, 4])"
      ]
     },
     "execution_count": 37,
     "metadata": {},
     "output_type": "execute_result"
    }
   ],
   "source": [
    "y_means"
   ]
  },
  {
   "cell_type": "code",
   "execution_count": 39,
   "id": "4308a3a9",
   "metadata": {},
   "outputs": [],
   "source": [
    "df[\"Target\"]=y_means"
   ]
  },
  {
   "cell_type": "code",
   "execution_count": 40,
   "id": "e37a01ac",
   "metadata": {},
   "outputs": [
    {
     "data": {
      "text/html": [
       "<div>\n",
       "<style scoped>\n",
       "    .dataframe tbody tr th:only-of-type {\n",
       "        vertical-align: middle;\n",
       "    }\n",
       "\n",
       "    .dataframe tbody tr th {\n",
       "        vertical-align: top;\n",
       "    }\n",
       "\n",
       "    .dataframe thead th {\n",
       "        text-align: right;\n",
       "    }\n",
       "</style>\n",
       "<table border=\"1\" class=\"dataframe\">\n",
       "  <thead>\n",
       "    <tr style=\"text-align: right;\">\n",
       "      <th></th>\n",
       "      <th>CustomerID</th>\n",
       "      <th>Gender</th>\n",
       "      <th>Age</th>\n",
       "      <th>Annual Income (k$)</th>\n",
       "      <th>Spending Score (1-100)</th>\n",
       "      <th>Target</th>\n",
       "    </tr>\n",
       "  </thead>\n",
       "  <tbody>\n",
       "    <tr>\n",
       "      <th>0</th>\n",
       "      <td>1</td>\n",
       "      <td>Male</td>\n",
       "      <td>19</td>\n",
       "      <td>15</td>\n",
       "      <td>39</td>\n",
       "      <td>2</td>\n",
       "    </tr>\n",
       "    <tr>\n",
       "      <th>1</th>\n",
       "      <td>2</td>\n",
       "      <td>Male</td>\n",
       "      <td>21</td>\n",
       "      <td>15</td>\n",
       "      <td>81</td>\n",
       "      <td>3</td>\n",
       "    </tr>\n",
       "    <tr>\n",
       "      <th>2</th>\n",
       "      <td>3</td>\n",
       "      <td>Female</td>\n",
       "      <td>20</td>\n",
       "      <td>16</td>\n",
       "      <td>6</td>\n",
       "      <td>2</td>\n",
       "    </tr>\n",
       "    <tr>\n",
       "      <th>3</th>\n",
       "      <td>4</td>\n",
       "      <td>Female</td>\n",
       "      <td>23</td>\n",
       "      <td>16</td>\n",
       "      <td>77</td>\n",
       "      <td>3</td>\n",
       "    </tr>\n",
       "    <tr>\n",
       "      <th>4</th>\n",
       "      <td>5</td>\n",
       "      <td>Female</td>\n",
       "      <td>31</td>\n",
       "      <td>17</td>\n",
       "      <td>40</td>\n",
       "      <td>2</td>\n",
       "    </tr>\n",
       "    <tr>\n",
       "      <th>...</th>\n",
       "      <td>...</td>\n",
       "      <td>...</td>\n",
       "      <td>...</td>\n",
       "      <td>...</td>\n",
       "      <td>...</td>\n",
       "      <td>...</td>\n",
       "    </tr>\n",
       "    <tr>\n",
       "      <th>195</th>\n",
       "      <td>196</td>\n",
       "      <td>Female</td>\n",
       "      <td>35</td>\n",
       "      <td>120</td>\n",
       "      <td>79</td>\n",
       "      <td>4</td>\n",
       "    </tr>\n",
       "    <tr>\n",
       "      <th>196</th>\n",
       "      <td>197</td>\n",
       "      <td>Female</td>\n",
       "      <td>45</td>\n",
       "      <td>126</td>\n",
       "      <td>28</td>\n",
       "      <td>0</td>\n",
       "    </tr>\n",
       "    <tr>\n",
       "      <th>197</th>\n",
       "      <td>198</td>\n",
       "      <td>Male</td>\n",
       "      <td>32</td>\n",
       "      <td>126</td>\n",
       "      <td>74</td>\n",
       "      <td>4</td>\n",
       "    </tr>\n",
       "    <tr>\n",
       "      <th>198</th>\n",
       "      <td>199</td>\n",
       "      <td>Male</td>\n",
       "      <td>32</td>\n",
       "      <td>137</td>\n",
       "      <td>18</td>\n",
       "      <td>0</td>\n",
       "    </tr>\n",
       "    <tr>\n",
       "      <th>199</th>\n",
       "      <td>200</td>\n",
       "      <td>Male</td>\n",
       "      <td>30</td>\n",
       "      <td>137</td>\n",
       "      <td>83</td>\n",
       "      <td>4</td>\n",
       "    </tr>\n",
       "  </tbody>\n",
       "</table>\n",
       "<p>200 rows × 6 columns</p>\n",
       "</div>"
      ],
      "text/plain": [
       "     CustomerID  Gender  Age  Annual Income (k$)  Spending Score (1-100)  \\\n",
       "0             1    Male   19                  15                      39   \n",
       "1             2    Male   21                  15                      81   \n",
       "2             3  Female   20                  16                       6   \n",
       "3             4  Female   23                  16                      77   \n",
       "4             5  Female   31                  17                      40   \n",
       "..          ...     ...  ...                 ...                     ...   \n",
       "195         196  Female   35                 120                      79   \n",
       "196         197  Female   45                 126                      28   \n",
       "197         198    Male   32                 126                      74   \n",
       "198         199    Male   32                 137                      18   \n",
       "199         200    Male   30                 137                      83   \n",
       "\n",
       "     Target  \n",
       "0         2  \n",
       "1         3  \n",
       "2         2  \n",
       "3         3  \n",
       "4         2  \n",
       "..      ...  \n",
       "195       4  \n",
       "196       0  \n",
       "197       4  \n",
       "198       0  \n",
       "199       4  \n",
       "\n",
       "[200 rows x 6 columns]"
      ]
     },
     "execution_count": 40,
     "metadata": {},
     "output_type": "execute_result"
    }
   ],
   "source": [
    "df"
   ]
  },
  {
   "cell_type": "code",
   "execution_count": null,
   "id": "13fa7e6c",
   "metadata": {},
   "outputs": [],
   "source": []
  }
 ],
 "metadata": {
  "kernelspec": {
   "display_name": "Python 3 (ipykernel)",
   "language": "python",
   "name": "python3"
  },
  "language_info": {
   "codemirror_mode": {
    "name": "ipython",
    "version": 3
   },
   "file_extension": ".py",
   "mimetype": "text/x-python",
   "name": "python",
   "nbconvert_exporter": "python",
   "pygments_lexer": "ipython3",
   "version": "3.10.9"
  }
 },
 "nbformat": 4,
 "nbformat_minor": 5
}
